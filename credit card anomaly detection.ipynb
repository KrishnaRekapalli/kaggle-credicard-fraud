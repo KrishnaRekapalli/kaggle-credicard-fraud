{
  "metadata": {
    "kernelspec": {
      "display_name": "Python 3",
      "language": "python",
      "name": "python3"
    },
    "language_info": {
      "codemirror_mode": {
        "name": "ipython",
        "version": 3
      },
      "file_extension": ".py",
      "mimetype": "text/x-python",
      "name": "python",
      "nbconvert_exporter": "python",
      "pygments_lexer": "ipython3",
      "version": "3.6.0"
    }
  },
  "nbformat": 4,
  "nbformat_minor": 0,
  "cells": [
    {
      "cell_type": "markdown",
      "source": "Simple Multivariate gaussian distribution assumption is used to predict the probability that a given transaction is fraudulent. \n\n - The raw data has ~250,000 normal transactions and ~500 fraudulent transactions\n - This is highly imbalanced data but such is the nature of credit card data. \n - So regular  ML techniques like random forests and logistic regression on raw data may give high accuracy but will be not very useful in detecting the fraud transactions. Because predicting every transaction as not fraudulent still gives an accuracy of 250000/250500 i.e. 99.8% accuracy.\n - One way to deal with this problem is resampling from the raw data to get a balanced sample and then run logistic regression or random forests\n - Another alternative is that we can use anomaly detection algorithms. \n\nIn this notebook I apply the simple multivariate gaussian distribution assumption to calculate the probability that a given transaction is fraudulent.\n\nFirst I create a training data which contains only normal transactions. I split the transactions into normal and fraudulent transactions. \nTrain Data:   60% of the the normal transactions\nCross Validation Data: 20% of normal transactions and 50% of the fraudulent transactions\nTest Data: 20% of normal transactions and 50% of fraudulent transactions\n\nAll the features are assumed to be independent of each other and are assumed to follow normal distribution. From the training data I calibrate the mean and variance of each feature. With this I calculate the probability of each transaction feature having a given value in the cross validation data. Now from the cross validation probabilities, I come up with an epsilon probability which can be used to classify the transaction. \n\nIncreasing epsilon decreases false positives (normal but classified as fraud) and also the true positives (fraud classified as fraud). Using a very small epsilon increases the true positive rate but also dramatically increases the false positive rate. It is important to strike a balance here",
      "metadata": {}
    },
    {
      "cell_type": "code",
      "source": "import pandas as pd\nimport numpy as np\nimport seaborn as sns\nimport matplotlib.pyplot as plt\nimport itertools\n%matplotlib inline",
      "execution_count": null,
      "outputs": [],
      "metadata": {}
    },
    {
      "cell_type": "code",
      "source": "rawData = pd.read_csv('../input/creditcard.csv')",
      "execution_count": null,
      "outputs": [],
      "metadata": {}
    },
    {
      "cell_type": "code",
      "source": "rawData.head()",
      "execution_count": null,
      "outputs": [],
      "metadata": {}
    },
    {
      "cell_type": "code",
      "source": "normals = rawData[rawData['Class']==0]\nanamolies = rawData[rawData['Class']==1]",
      "execution_count": null,
      "outputs": [],
      "metadata": {}
    },
    {
      "cell_type": "code",
      "source": "print('There are',len(normals),'normal transactions and ',len(anamolies), 'fraudulent transactions in the data')",
      "execution_count": null,
      "outputs": [],
      "metadata": {}
    },
    {
      "cell_type": "code",
      "source": "rawData['Amount'].describe()",
      "execution_count": null,
      "outputs": [],
      "metadata": {}
    },
    {
      "cell_type": "code",
      "source": "split = np.random.choice([1,2,3], len(normals), p=[0.6, 0.2, 0.2])\nnormals['split'] = split",
      "execution_count": null,
      "outputs": [],
      "metadata": {}
    },
    {
      "cell_type": "code",
      "source": "trainData = normals[normals['split']==1]\ncrossVal = normals[normals['split']==2]\ntestData = normals[normals['split']==3]",
      "execution_count": null,
      "outputs": [],
      "metadata": {}
    },
    {
      "cell_type": "code",
      "source": "split2 = np.random.choice([1,2], len(anamolies), p=[0.5, 0.5])\nanamolies['split'] = split2",
      "execution_count": null,
      "outputs": [],
      "metadata": {}
    },
    {
      "cell_type": "code",
      "source": "crossVal = crossVal.append(anamolies[anamolies['split']==1])\ntestData = testData.append(anamolies[anamolies['split']==2])",
      "execution_count": null,
      "outputs": [],
      "metadata": {}
    },
    {
      "cell_type": "code",
      "source": "print('Length of train data', len(trainData))\nprint('Length of crossval data', len(crossVal))\nprint('Length of test data', len(testData))",
      "execution_count": null,
      "outputs": [],
      "metadata": {}
    },
    {
      "cell_type": "code",
      "source": "np.log(10)",
      "execution_count": null,
      "outputs": [],
      "metadata": {}
    },
    {
      "cell_type": "code",
      "source": "cols = ['V'+str(i) for i in range(1,29)]\ncols.append('Amount')",
      "execution_count": null,
      "outputs": [],
      "metadata": {}
    },
    {
      "cell_type": "code",
      "source": "featureMeans = {}\nfeatureVars = {}",
      "execution_count": null,
      "outputs": [],
      "metadata": {}
    },
    {
      "cell_type": "code",
      "source": "for col in cols:\n    featureMeans[col] = np.mean(trainData[col])\n    featureVars[col] = np.var(trainData[col])",
      "execution_count": null,
      "outputs": [],
      "metadata": {}
    },
    {
      "cell_type": "code",
      "source": "featureMeans",
      "execution_count": null,
      "outputs": [],
      "metadata": {}
    },
    {
      "cell_type": "code",
      "source": "featureVars",
      "execution_count": null,
      "outputs": [],
      "metadata": {}
    },
    {
      "cell_type": "code",
      "source": "crossVal['prediction'] = ''",
      "execution_count": null,
      "outputs": [],
      "metadata": {}
    },
    {
      "cell_type": "code",
      "source": "testData.head()",
      "execution_count": null,
      "outputs": [],
      "metadata": {}
    },
    {
      "cell_type": "code",
      "source": "testData = testData.reset_index()\ncrossVal= crossVal.reset_index()",
      "execution_count": null,
      "outputs": [],
      "metadata": {}
    },
    {
      "cell_type": "code",
      "source": "for i in range(len(crossVal)):\n    \n    p = 10\n    \n    for j in cols:\n        \n        p = p* (1/np.sqrt((2*np.pi)*featureVars[j]))* np.exp(-1*((crossVal.loc[i,j]-featureMeans[j])**2)/(2*featureVars[j]))\n    \n    crossVal.loc[i,'prediction'] = p",
      "execution_count": null,
      "outputs": [],
      "metadata": {}
    },
    {
      "cell_type": "code",
      "source": "crossValNormals = crossVal[crossVal['Class']==0]\ncrossValAnams = crossVal[crossVal['Class']==1]",
      "execution_count": null,
      "outputs": [],
      "metadata": {}
    },
    {
      "cell_type": "code",
      "source": "crossVal['classPredict'] = ''",
      "execution_count": null,
      "outputs": [],
      "metadata": {}
    },
    {
      "cell_type": "code",
      "source": "classEpsArray = np.array([(10**(-1*i)) for i in range(10,50) ])",
      "execution_count": null,
      "outputs": [],
      "metadata": {}
    },
    {
      "cell_type": "code",
      "source": "def classify(predictionP,eps):\n    \n    if predictionP < eps:\n        return 1\n    else:\n        return 0\n    ",
      "execution_count": null,
      "outputs": [],
      "metadata": {}
    },
    {
      "cell_type": "code",
      "source": "tprArray = []\nfprArray = []\ndtArray =[]\n\nfor classEps in classEpsArray:\n    \n    crossVal['classPredict'] = crossVal['prediction'].apply(lambda row: classify(row,classEps))\n    effTable = crossVal[['classPredict','Class']]\n    fp = len(effTable[(effTable['classPredict']==1)&(effTable['Class']==0)])\n    fn = len(effTable[(effTable['classPredict']==0)&(effTable['Class']==1)])\n    tp = len(effTable[(effTable['classPredict']==1)&(effTable['Class']==1)])\n    tn = len(effTable[(effTable['classPredict']==0)&(effTable['Class']==0)])\n    \n    tpr = tp/(tp+fn)\n    fpr = fp/(fp+tn)\n    \n    detectRate = tp/(tp+fn)\n    \n    \n    \n    \n    tprArray.append(tpr)\n    fprArray.append(fpr)\n    dtArray.append(detectRate)\n    \n        ",
      "execution_count": null,
      "outputs": [],
      "metadata": {}
    },
    {
      "cell_type": "code",
      "source": "plt.figure()\nplt.plot(dtArray,label='Fraud detection Rate')\nplt.plot(fprArray,label='Flase Positive Rate')\nplt.legend()\nplt.show()",
      "execution_count": null,
      "outputs": [],
      "metadata": {}
    },
    {
      "cell_type": "code",
      "source": "From the above plot of fraud detection rate and flase positive rate we can see that epsilon parameter of ",
      "execution_count": null,
      "outputs": [],
      "metadata": {}
    },
    {
      "cell_type": "code",
      "source": "plt.figure()\nplt.plot(fprArray,tprArray)\nplt.tight_layout()\nplt.ylabel('True positive rate (TPR)')\nplt.xlabel('False positive rate (FPR)')\n\naxes = plt.gca()\naxes.set_xlim([0,1])\naxes.set_ylim([0,1])",
      "execution_count": null,
      "outputs": [],
      "metadata": {}
    },
    {
      "cell_type": "code",
      "source": "classEps2 = 1.00000000e-24\ncrossVal['classPredict'] = crossVal['prediction'].apply(lambda row: classify(row,classEps2))\neffTable = crossVal[['classPredict','Class']]",
      "execution_count": null,
      "outputs": [],
      "metadata": {}
    },
    {
      "cell_type": "code",
      "source": "fp = len(effTable[(effTable['classPredict']==1)&(effTable['Class']==0)])\nfn = len(effTable[(effTable['classPredict']==0)&(effTable['Class']==1)])\ntp = len(effTable[(effTable['classPredict']==1)&(effTable['Class']==1)])\ntn = len(effTable[(effTable['classPredict']==0)&(effTable['Class']==0)])",
      "execution_count": null,
      "outputs": [],
      "metadata": {}
    },
    {
      "cell_type": "code",
      "source": "def plot_confusion_matrix(cm, classes,\n                          normalize=False,\n                          title='Confusion matrix',\n                          cmap=plt.cm.Blues):\n    \"\"\"\n    This function prints and plots the confusion matrix.\n    Normalization can be applied by setting `normalize=True`.\n    \"\"\"\n    plt.imshow(cm, interpolation='nearest', cmap=cmap)\n    plt.title(title)\n    plt.colorbar()\n    tick_marks = np.arange(len(classes))\n    plt.xticks(tick_marks, classes, rotation=45)\n    plt.yticks(tick_marks, classes)\n\n    if normalize:\n        cm = cm.astype('float') / cm.sum(axis=1)[:, np.newaxis]\n        print(\"Normalized confusion matrix\")\n    else:\n        print('Confusion matrix, without normalization')\n\n    print(cm)\n\n    thresh = cm.max() / 2.\n    for i, j in itertools.product(range(cm.shape[0]), range(cm.shape[1])):\n        plt.text(j, i, cm[i, j],\n                 horizontalalignment=\"center\",\n                 color=\"white\" if cm[i, j] > thresh else \"black\")\n\n    plt.tight_layout()\n    plt.ylabel('True label')\n    plt.xlabel('Predicted label')",
      "execution_count": null,
      "outputs": [],
      "metadata": {}
    },
    {
      "cell_type": "code",
      "source": "from sklearn.metrics import confusion_matrix\ncnf_matrix= confusion_matrix(crossVal['Class'], crossVal['classPredict'])",
      "execution_count": null,
      "outputs": [],
      "metadata": {}
    },
    {
      "cell_type": "code",
      "source": "# Plot non-normalized confusion matrix\nplt.figure()\nplot_confusion_matrix(cnf_matrix, classes=['normal','anamoly'],\n                      title='Confusion matrix, without normalization')",
      "execution_count": null,
      "outputs": [],
      "metadata": {}
    },
    {
      "cell_type": "code",
      "source": "2816/(2816+53423)",
      "execution_count": null,
      "outputs": [],
      "metadata": {}
    },
    {
      "cell_type": "markdown",
      "source": "From above confusion matrix we can see that the algorithm was able to detect 223 of 250 fraudulent transactions. THat is ~89.2% of the fraud. The false positive rate is 5%",
      "metadata": {}
    },
    {
      "cell_type": "markdown",
      "source": null,
      "metadata": {}
    },
    {
      "cell_type": "code",
      "source": "testData['prediction'] = ''",
      "execution_count": null,
      "outputs": [],
      "metadata": {}
    },
    {
      "cell_type": "code",
      "source": "for i in range(len(testData)):\n    \n    p = 10\n    \n    for j in cols:\n        \n        p = p* (1/np.sqrt((2*np.pi)*featureVars[j]))* np.exp(-1*((testData.loc[i,j]-featureMeans[j])**2)/(2*featureVars[j]))\n    \n    testData.loc[i,'prediction'] = p",
      "execution_count": null,
      "outputs": [],
      "metadata": {}
    },
    {
      "cell_type": "code",
      "source": "classEps2 = 1.00000000e-24\n\ntestData['classPredict'] = testData['prediction'].apply(lambda row: classify(row,classEps2))\neffTable2 = testData[['classPredict','Class']]\n\ncnf_matrix2 = confusion_matrix(testData['Class'], testData['classPredict'])\n\nplt.figure()\nplot_confusion_matrix(cnf_matrix2, classes=['normal','anamoly'],\n                      title='Confusion matrix, without normalization')",
      "execution_count": null,
      "outputs": [],
      "metadata": {}
    },
    {
      "cell_type": "markdown",
      "source": "On the test set the detection rate is ~ 86%",
      "metadata": {}
    },
    {
      "cell_type": "code",
      "source": null,
      "execution_count": null,
      "outputs": [],
      "metadata": {}
    }
  ]
}